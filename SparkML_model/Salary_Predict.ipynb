{
  "nbformat": 4,
  "nbformat_minor": 0,
  "metadata": {
    "colab": {
      "name": "Salary_Predict.ipynb",
      "provenance": [],
      "collapsed_sections": []
    },
    "kernelspec": {
      "name": "python3",
      "display_name": "Python 3"
    },
    "language_info": {
      "name": "python"
    }
  },
  "cells": [
    {
      "cell_type": "code",
      "execution_count": null,
      "metadata": {
        "id": "efmhdCt02G2-"
      },
      "outputs": [],
      "source": [
        "import pandas as pd\n",
        "import numpy as np\n",
        "from sklearn.preprocessing import LabelEncoder\n",
        "from sklearn.preprocessing import OneHotEncoder\n",
        "from sklearn.model_selection import train_test_split"
      ]
    },
    {
      "cell_type": "markdown",
      "source": [
        "Trian"
      ],
      "metadata": {
        "id": "PCOvHQgUNbRi"
      }
    },
    {
      "cell_type": "code",
      "source": [
        "data = pd.read_csv('/content/train.csv')"
      ],
      "metadata": {
        "id": "XgN4Vc7e2T-c"
      },
      "execution_count": null,
      "outputs": []
    },
    {
      "cell_type": "code",
      "source": [
        "data"
      ],
      "metadata": {
        "colab": {
          "base_uri": "https://localhost:8080/",
          "height": 424
        },
        "id": "AqZuSkKPwSp5",
        "outputId": "8b0736ea-14a6-49ad-e495-8dcd83ff1f78"
      },
      "execution_count": null,
      "outputs": [
        {
          "output_type": "execute_result",
          "data": {
            "text/html": [
              "<div>\n",
              "<style scoped>\n",
              "    .dataframe tbody tr th:only-of-type {\n",
              "        vertical-align: middle;\n",
              "    }\n",
              "\n",
              "    .dataframe tbody tr th {\n",
              "        vertical-align: top;\n",
              "    }\n",
              "\n",
              "    .dataframe thead th {\n",
              "        text-align: right;\n",
              "    }\n",
              "</style>\n",
              "<table border=\"1\" class=\"dataframe\">\n",
              "  <thead>\n",
              "    <tr style=\"text-align: right;\">\n",
              "      <th></th>\n",
              "      <th>jobType</th>\n",
              "      <th>degree</th>\n",
              "      <th>major</th>\n",
              "      <th>industry</th>\n",
              "      <th>yearsExperience</th>\n",
              "      <th>milesFromMetropolis</th>\n",
              "      <th>salary</th>\n",
              "    </tr>\n",
              "  </thead>\n",
              "  <tbody>\n",
              "    <tr>\n",
              "      <th>0</th>\n",
              "      <td>CFO</td>\n",
              "      <td>MASTERS</td>\n",
              "      <td>MATH</td>\n",
              "      <td>HEALTH</td>\n",
              "      <td>10</td>\n",
              "      <td>83</td>\n",
              "      <td>130</td>\n",
              "    </tr>\n",
              "    <tr>\n",
              "      <th>1</th>\n",
              "      <td>CEO</td>\n",
              "      <td>HIGH_SCHOOL</td>\n",
              "      <td>NONE</td>\n",
              "      <td>WEB</td>\n",
              "      <td>3</td>\n",
              "      <td>73</td>\n",
              "      <td>101</td>\n",
              "    </tr>\n",
              "    <tr>\n",
              "      <th>2</th>\n",
              "      <td>VICE_PRESIDENT</td>\n",
              "      <td>DOCTORAL</td>\n",
              "      <td>PHYSICS</td>\n",
              "      <td>HEALTH</td>\n",
              "      <td>10</td>\n",
              "      <td>38</td>\n",
              "      <td>137</td>\n",
              "    </tr>\n",
              "    <tr>\n",
              "      <th>3</th>\n",
              "      <td>MANAGER</td>\n",
              "      <td>DOCTORAL</td>\n",
              "      <td>CHEMISTRY</td>\n",
              "      <td>AUTO</td>\n",
              "      <td>8</td>\n",
              "      <td>17</td>\n",
              "      <td>142</td>\n",
              "    </tr>\n",
              "    <tr>\n",
              "      <th>4</th>\n",
              "      <td>VICE_PRESIDENT</td>\n",
              "      <td>BACHELORS</td>\n",
              "      <td>PHYSICS</td>\n",
              "      <td>FINANCE</td>\n",
              "      <td>8</td>\n",
              "      <td>16</td>\n",
              "      <td>163</td>\n",
              "    </tr>\n",
              "    <tr>\n",
              "      <th>...</th>\n",
              "      <td>...</td>\n",
              "      <td>...</td>\n",
              "      <td>...</td>\n",
              "      <td>...</td>\n",
              "      <td>...</td>\n",
              "      <td>...</td>\n",
              "      <td>...</td>\n",
              "    </tr>\n",
              "    <tr>\n",
              "      <th>999990</th>\n",
              "      <td>VICE_PRESIDENT</td>\n",
              "      <td>BACHELORS</td>\n",
              "      <td>CHEMISTRY</td>\n",
              "      <td>HEALTH</td>\n",
              "      <td>19</td>\n",
              "      <td>94</td>\n",
              "      <td>88</td>\n",
              "    </tr>\n",
              "    <tr>\n",
              "      <th>999991</th>\n",
              "      <td>CTO</td>\n",
              "      <td>HIGH_SCHOOL</td>\n",
              "      <td>NONE</td>\n",
              "      <td>FINANCE</td>\n",
              "      <td>12</td>\n",
              "      <td>35</td>\n",
              "      <td>160</td>\n",
              "    </tr>\n",
              "    <tr>\n",
              "      <th>999992</th>\n",
              "      <td>JUNIOR</td>\n",
              "      <td>HIGH_SCHOOL</td>\n",
              "      <td>NONE</td>\n",
              "      <td>EDUCATION</td>\n",
              "      <td>16</td>\n",
              "      <td>81</td>\n",
              "      <td>64</td>\n",
              "    </tr>\n",
              "    <tr>\n",
              "      <th>999993</th>\n",
              "      <td>CFO</td>\n",
              "      <td>MASTERS</td>\n",
              "      <td>NONE</td>\n",
              "      <td>HEALTH</td>\n",
              "      <td>6</td>\n",
              "      <td>5</td>\n",
              "      <td>149</td>\n",
              "    </tr>\n",
              "    <tr>\n",
              "      <th>999994</th>\n",
              "      <td>JUNIOR</td>\n",
              "      <td>BACHELORS</td>\n",
              "      <td>NONE</td>\n",
              "      <td>EDUCATION</td>\n",
              "      <td>20</td>\n",
              "      <td>11</td>\n",
              "      <td>88</td>\n",
              "    </tr>\n",
              "  </tbody>\n",
              "</table>\n",
              "<p>999995 rows × 7 columns</p>\n",
              "</div>"
            ],
            "text/plain": [
              "               jobType       degree  ... milesFromMetropolis salary\n",
              "0                  CFO      MASTERS  ...                  83    130\n",
              "1                  CEO  HIGH_SCHOOL  ...                  73    101\n",
              "2       VICE_PRESIDENT     DOCTORAL  ...                  38    137\n",
              "3              MANAGER     DOCTORAL  ...                  17    142\n",
              "4       VICE_PRESIDENT    BACHELORS  ...                  16    163\n",
              "...                ...          ...  ...                 ...    ...\n",
              "999990  VICE_PRESIDENT    BACHELORS  ...                  94     88\n",
              "999991             CTO  HIGH_SCHOOL  ...                  35    160\n",
              "999992          JUNIOR  HIGH_SCHOOL  ...                  81     64\n",
              "999993             CFO      MASTERS  ...                   5    149\n",
              "999994          JUNIOR    BACHELORS  ...                  11     88\n",
              "\n",
              "[999995 rows x 7 columns]"
            ]
          },
          "metadata": {},
          "execution_count": 18
        }
      ]
    },
    {
      "cell_type": "code",
      "source": [
        "pd.Categorical(data['major'])"
      ],
      "metadata": {
        "colab": {
          "base_uri": "https://localhost:8080/"
        },
        "id": "fVjelRJPDLDx",
        "outputId": "9d23a836-24ec-498b-ddd0-43c25b0f92bd"
      },
      "execution_count": null,
      "outputs": [
        {
          "output_type": "execute_result",
          "data": {
            "text/plain": [
              "['MATH', 'NONE', 'PHYSICS', 'CHEMISTRY', 'PHYSICS', ..., 'CHEMISTRY', 'NONE', 'NONE', 'NONE', 'NONE']\n",
              "Length: 999995\n",
              "Categories (9, object): ['BIOLOGY', 'BUSINESS', 'CHEMISTRY', 'COMPSCI', ..., 'LITERATURE', 'MATH',\n",
              "                         'NONE', 'PHYSICS']"
            ]
          },
          "metadata": {},
          "execution_count": 5
        }
      ]
    },
    {
      "cell_type": "code",
      "source": [
        "data.sample()"
      ],
      "metadata": {
        "id": "gyEfTAfCwSVB",
        "colab": {
          "base_uri": "https://localhost:8080/",
          "height": 81
        },
        "outputId": "aced5845-65e5-4177-a7e1-d707593a7537"
      },
      "execution_count": null,
      "outputs": [
        {
          "output_type": "execute_result",
          "data": {
            "text/html": [
              "<div>\n",
              "<style scoped>\n",
              "    .dataframe tbody tr th:only-of-type {\n",
              "        vertical-align: middle;\n",
              "    }\n",
              "\n",
              "    .dataframe tbody tr th {\n",
              "        vertical-align: top;\n",
              "    }\n",
              "\n",
              "    .dataframe thead th {\n",
              "        text-align: right;\n",
              "    }\n",
              "</style>\n",
              "<table border=\"1\" class=\"dataframe\">\n",
              "  <thead>\n",
              "    <tr style=\"text-align: right;\">\n",
              "      <th></th>\n",
              "      <th>jobType</th>\n",
              "      <th>degree</th>\n",
              "      <th>major</th>\n",
              "      <th>industry</th>\n",
              "      <th>yearsExperience</th>\n",
              "      <th>milesFromMetropolis</th>\n",
              "      <th>salary</th>\n",
              "    </tr>\n",
              "  </thead>\n",
              "  <tbody>\n",
              "    <tr>\n",
              "      <th>269057</th>\n",
              "      <td>CTO</td>\n",
              "      <td>NONE</td>\n",
              "      <td>NONE</td>\n",
              "      <td>EDUCATION</td>\n",
              "      <td>13</td>\n",
              "      <td>23</td>\n",
              "      <td>135</td>\n",
              "    </tr>\n",
              "  </tbody>\n",
              "</table>\n",
              "</div>"
            ],
            "text/plain": [
              "       jobType degree major  ... yearsExperience  milesFromMetropolis  salary\n",
              "269057     CTO   NONE  NONE  ...              13                   23     135\n",
              "\n",
              "[1 rows x 7 columns]"
            ]
          },
          "metadata": {},
          "execution_count": 16
        }
      ]
    },
    {
      "cell_type": "code",
      "source": [
        "Category = ['jobType','degree','major','industry']\n",
        "Num = ['yearsExperience','milesFromMetropolis']\n",
        "label_encoder = LabelEncoder()\n",
        "one_hot_encoder = OneHotEncoder()\n",
        "EncodedCategoryColumns = []\n",
        "for c in Category:\n",
        "    label_encoder.fit(data[c])\n",
        "    label_encoded = label_encoder.transform(data[c])\n",
        "    label_encoded = label_encoded.reshape(len(label_encoded),1)\n",
        "    encoded = one_hot_encoder.fit_transform(label_encoded).toarray()\n",
        "    EncodedCategoryColumns.append(encoded)\n",
        "Numfeature = data[Num].values\n",
        "y_train = data['salary'].values\n",
        "y_train = y_train.reshape(len(y_train),1)\n",
        "\n",
        "X_train = np.append(EncodedCategoryColumns[0],EncodedCategoryColumns[1],axis=1)\n",
        "X_train = np.append(X_train,EncodedCategoryColumns[2],axis=1)\n",
        "X_train = np.append(X_train,EncodedCategoryColumns[3],axis=1)\n",
        "X_train = np.append(X_train,Numfeature,axis=1)\n",
        "\n",
        "#random split\n",
        "X_train,X_test,y_train,y_test = train_test_split(X_train,y_train,test_size=0.2)"
      ],
      "metadata": {
        "id": "mJAt4HBx2yA0"
      },
      "execution_count": null,
      "outputs": []
    },
    {
      "cell_type": "code",
      "source": [
        "np.shape(y_train)"
      ],
      "metadata": {
        "colab": {
          "base_uri": "https://localhost:8080/"
        },
        "id": "X9dyuDwLuG1T",
        "outputId": "3703040d-0eae-48a5-c973-d069ffb07b2f"
      },
      "execution_count": null,
      "outputs": [
        {
          "output_type": "execute_result",
          "data": {
            "text/plain": [
              "(799996, 1)"
            ]
          },
          "metadata": {},
          "execution_count": 4
        }
      ]
    },
    {
      "cell_type": "code",
      "source": [
        "from sklearn.linear_model import LinearRegression\n",
        "LR = LinearRegression()\n",
        "LR.fit(X_train,y_train)"
      ],
      "metadata": {
        "colab": {
          "base_uri": "https://localhost:8080/"
        },
        "id": "x1kTiXkMMCDp",
        "outputId": "735c1e32-a6ba-4a23-e601-c5eabdbd0810"
      },
      "execution_count": null,
      "outputs": [
        {
          "output_type": "execute_result",
          "data": {
            "text/plain": [
              "LinearRegression()"
            ]
          },
          "metadata": {},
          "execution_count": 7
        }
      ]
    },
    {
      "cell_type": "markdown",
      "source": [
        "SAVE"
      ],
      "metadata": {
        "id": "L5zKM5uBf8yZ"
      }
    },
    {
      "cell_type": "code",
      "source": [
        "import pickle\n",
        "pickle.dump(LR, open('modelb.pkl','wb'))"
      ],
      "metadata": {
        "id": "quNQuFgtfdA4"
      },
      "execution_count": null,
      "outputs": []
    },
    {
      "cell_type": "markdown",
      "source": [
        "Training Error"
      ],
      "metadata": {
        "id": "UsRc8CbVtaEV"
      }
    },
    {
      "cell_type": "code",
      "source": [
        "print(LR.predict(X_train))"
      ],
      "metadata": {
        "colab": {
          "base_uri": "https://localhost:8080/"
        },
        "id": "h6oXs80wMmH-",
        "outputId": "8224edd2-09f9-4f4f-a648-29cd80df37e3"
      },
      "execution_count": null,
      "outputs": [
        {
          "output_type": "stream",
          "name": "stdout",
          "text": [
            "[[125.26355743]\n",
            " [102.96943665]\n",
            " [ 77.42057037]\n",
            " ...\n",
            " [ 62.31502533]\n",
            " [129.08094025]\n",
            " [130.44480896]]\n"
          ]
        }
      ]
    },
    {
      "cell_type": "code",
      "source": [
        "y_train"
      ],
      "metadata": {
        "colab": {
          "base_uri": "https://localhost:8080/"
        },
        "id": "9nik8uPxuXh0",
        "outputId": "f4e4aff7-2acc-4c52-a297-288d5e045e5e"
      },
      "execution_count": null,
      "outputs": [
        {
          "output_type": "execute_result",
          "data": {
            "text/plain": [
              "array([[129],\n",
              "       [ 94],\n",
              "       [ 66],\n",
              "       ...,\n",
              "       [ 70],\n",
              "       [ 98],\n",
              "       [161]])"
            ]
          },
          "metadata": {},
          "execution_count": 9
        }
      ]
    },
    {
      "cell_type": "markdown",
      "source": [
        "Testing Error"
      ],
      "metadata": {
        "id": "y68BeHi6tc0K"
      }
    },
    {
      "cell_type": "code",
      "source": [
        "print(LR.predict(X_test))"
      ],
      "metadata": {
        "colab": {
          "base_uri": "https://localhost:8080/"
        },
        "id": "9MG_Kd4PtZiG",
        "outputId": "e2d6b5d9-2cad-4dfc-9615-688a5e164071"
      },
      "execution_count": null,
      "outputs": [
        {
          "output_type": "stream",
          "name": "stdout",
          "text": [
            "[[ 89.40138245]\n",
            " [ 68.48504639]\n",
            " [187.75462341]\n",
            " ...\n",
            " [ 88.7043457 ]\n",
            " [107.71725464]\n",
            " [127.81959534]]\n"
          ]
        }
      ]
    },
    {
      "cell_type": "code",
      "source": [
        "y_test"
      ],
      "metadata": {
        "colab": {
          "base_uri": "https://localhost:8080/"
        },
        "id": "z5HseprQuxIe",
        "outputId": "ee1e3389-b160-480e-b583-a8727eecf2e4"
      },
      "execution_count": null,
      "outputs": [
        {
          "output_type": "execute_result",
          "data": {
            "text/plain": [
              "array([[100],\n",
              "       [110],\n",
              "       [121],\n",
              "       ...,\n",
              "       [103],\n",
              "       [127],\n",
              "       [104]])"
            ]
          },
          "metadata": {},
          "execution_count": 7
        }
      ]
    },
    {
      "cell_type": "code",
      "source": [
        "pred = LR.predict(X_test)\n",
        "temp = np.linalg.norm(pred-y_test,ord=1)\n",
        "error = temp/(np.sum(y_test))"
      ],
      "metadata": {
        "id": "IyNfinGgvA3K"
      },
      "execution_count": null,
      "outputs": []
    },
    {
      "cell_type": "code",
      "source": [
        "(1-error)"
      ],
      "metadata": {
        "colab": {
          "base_uri": "https://localhost:8080/"
        },
        "id": "gLtSuJDjvy4v",
        "outputId": "a2cc2445-1613-4d3f-8703-b6ef3337b3a1"
      },
      "execution_count": null,
      "outputs": [
        {
          "output_type": "execute_result",
          "data": {
            "text/plain": [
              "0.863658584746559"
            ]
          },
          "metadata": {},
          "execution_count": 11
        }
      ]
    },
    {
      "cell_type": "markdown",
      "source": [
        "YuqinEncoder"
      ],
      "metadata": {
        "id": "A8C7g1nng7j-"
      }
    },
    {
      "cell_type": "code",
      "source": [
        "def YuqinEncoder(Input):\n",
        "    if Input[0] == 'CEO':\n",
        "        Encoded0 = np.array([[1.,0.,0.,0.,0.,0.,0.,0.]])\n",
        "    if Input[0] == 'CFO':\n",
        "        Encoded0 = np.array([[0.,1.,0.,0.,0.,0.,0.,0.]])\n",
        "    if Input[0] == 'CTO':\n",
        "        Encoded0 = np.array([[0.,0.,1.,0.,0.,0.,0.,0.]])\n",
        "    if Input[0] == 'JANITOR':\n",
        "        Encoded0 = np.array([[0.,0.,0.,1.,0.,0.,0.,0.]])\n",
        "    if Input[0] == 'JUNIOR':\n",
        "        Encoded0 = np.array([[0.,0.,0.,0.,1.,0.,0.,0.]])\n",
        "    if Input[0] == 'MANAGER':\n",
        "        Encoded0 = np.array([[0.,0.,0.,0.,0.,1.,0.,0.]])\n",
        "    if Input[0] == 'SENIOR':\n",
        "        Encoded0 = np.array([[0.,0.,0.,0.,0.,0.,1.,0.]])\n",
        "    if Input[0] == 'VICE_PRESIDENT':\n",
        "        Encoded0 = np.array([[0.,0.,0.,0.,0.,0.,0.,1.]])\n",
        "\n",
        "    if Input[1] == 'BACHELORS':\n",
        "        Encoded1 = np.array([[1.,0.,0.,0.,0.]])\n",
        "    if Input[1] == 'DOCTORAL':\n",
        "        Encoded1 = np.array([[0.,1.,0.,0.,0.]])\n",
        "    if Input[1] == 'HIGH_SCHOOL':\n",
        "        Encoded1 = np.array([[0.,0.,1.,0.,0.]])\n",
        "    if Input[1] == 'MASTERS':\n",
        "        Encoded1 = np.array([[0.,0.,0.,1.,0.]])\n",
        "    if Input[1] == 'NONE':\n",
        "        Encoded1 = np.array([[0.,0.,0.,0.,1.]])\n",
        "\n",
        "    if Input[2] == 'BIOLOGY':\n",
        "        Encoded2 = np.array([[1.,0.,0.,0.,0.,0.,0.,0.,0.]])\n",
        "    if Input[2] == 'BUSINESS':\n",
        "        Encoded2 = np.array([[0.,1.,0.,0.,0.,0.,0.,0.,0.]])\n",
        "    if Input[2] == 'CHEMISTRY':\n",
        "        Encoded2 = np.array([[0.,0.,1.,0.,0.,0.,0.,0.,0.]])\n",
        "    if Input[2] == 'COMPSCI':\n",
        "        Encoded2 = np.array([[0.,0.,0.,1.,0.,0.,0.,0.,0.]])\n",
        "    if Input[2] == 'ENGINEERING':\n",
        "        Encoded2 = np.array([[0.,0.,0.,0.,1.,0.,0.,0.,0.]])\n",
        "    if Input[2] == 'LITERATURE':\n",
        "        Encoded2 = np.array([[0.,0.,0.,0.,0.,1.,0.,0.,0.]])\n",
        "    if Input[2] == 'MATH':\n",
        "        Encoded2 = np.array([[0.,0.,0.,0.,0.,0.,1.,0.,0.]])\n",
        "    if Input[2] == 'NONE':\n",
        "        Encoded2 = np.array([[0.,0.,0.,0.,0.,0.,0.,1.,0.]])\n",
        "    if Input[2] == 'PHYSICS':\n",
        "        Encoded2 = np.array([[0.,0.,0.,0.,0.,0.,0.,0.,1.]])\n",
        "\n",
        "    if Input[3] == 'AUTO':\n",
        "        Encoded3 = np.array([[1.,0.,0.,0.,0.,0.,0.]])\n",
        "    if Input[3] == 'EDUCATION':\n",
        "        Encoded3 = np.array([[0.,1.,0.,0.,0.,0.,0.]])\n",
        "    if Input[3] == 'FINANCE':\n",
        "        Encoded3 = np.array([[0.,0.,1.,0.,0.,0.,0.]])\n",
        "    if Input[3] == 'HEALTH':\n",
        "        Encoded3 = np.array([[0.,0.,0.,1.,0.,0.,0.]])\n",
        "    if Input[3] == 'OIL':\n",
        "        Encoded3 = np.array([[0.,0.,0.,0.,1.,0.,0.]])\n",
        "    if Input[3] == 'SERVICE':\n",
        "        Encoded3 = np.array([[0.,0.,0.,0.,0.,1.,0.]])\n",
        "    if Input[3] == 'WEB':\n",
        "        Encoded3 = np.array([[0.,0.,0.,0.,0.,0.,1.]])\n",
        "\n",
        "    EncodedInput = np.append(Encoded0,Encoded1,axis=1)\n",
        "    EncodedInput = np.append(EncodedInput,Encoded2,axis=1)\n",
        "    EncodedInput = np.append(EncodedInput,Encoded3,axis=1)\n",
        "    EncodedInput = np.append(EncodedInput,np.array([[Input[4]]]),axis=1)\n",
        "    EncodedInput = np.append(EncodedInput,np.array([[Input[5]]]),axis=1)\n",
        "    \n",
        "    return EncodedInput"
      ],
      "metadata": {
        "id": "2yP5rkGKcLys"
      },
      "execution_count": null,
      "outputs": []
    },
    {
      "cell_type": "code",
      "source": [
        "Input = ['SENIOR','DOCTORAL','MATH','FINANCE',1000,0]\n",
        "EncodedInput = YuqinEncoder(Input)"
      ],
      "metadata": {
        "id": "HeT2622BYS3z"
      },
      "execution_count": null,
      "outputs": []
    },
    {
      "cell_type": "code",
      "source": [
        "LR.predict(EncodedInput)"
      ],
      "metadata": {
        "colab": {
          "base_uri": "https://localhost:8080/"
        },
        "id": "0mQHVVjhqpbI",
        "outputId": "1098a920-79c3-4e10-f528-a81f99845d34"
      },
      "execution_count": null,
      "outputs": [
        {
          "output_type": "execute_result",
          "data": {
            "text/plain": [
              "array([[2141.70835876]])"
            ]
          },
          "metadata": {},
          "execution_count": 39
        }
      ]
    },
    {
      "cell_type": "markdown",
      "source": [
        "LOAD"
      ],
      "metadata": {
        "id": "JQ2fTF0ugB7S"
      }
    },
    {
      "cell_type": "code",
      "source": [
        "model = pickle.load(open('modelb.pkl','rb'))\n",
        "Input = ['JUNIOR','MASTERS','COMPSCI','WEB',10,20]\n",
        "EncodedInput = YuqinEncoder(Input)\n",
        "model.predict(EncodedInput)"
      ],
      "metadata": {
        "id": "29RKDlIpYx0b",
        "colab": {
          "base_uri": "https://localhost:8080/"
        },
        "outputId": "55540df2-25e0-48a8-a80a-8b16d1c2c111"
      },
      "execution_count": null,
      "outputs": [
        {
          "output_type": "execute_result",
          "data": {
            "text/plain": [
              "array([[128.45803833]])"
            ]
          },
          "metadata": {},
          "execution_count": 11
        }
      ]
    },
    {
      "cell_type": "code",
      "source": [
        "x='3'\n",
        "temp=[x]\n",
        "print(temp)"
      ],
      "metadata": {
        "colab": {
          "base_uri": "https://localhost:8080/"
        },
        "id": "UTVXsrRUzRtk",
        "outputId": "b6d01c08-adee-4990-958c-d23aa1470a2d"
      },
      "execution_count": null,
      "outputs": [
        {
          "output_type": "stream",
          "name": "stdout",
          "text": [
            "['3']\n"
          ]
        }
      ]
    }
  ]
}